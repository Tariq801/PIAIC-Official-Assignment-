{
 "cells": [
  {
   "cell_type": "code",
   "execution_count": null,
   "metadata": {},
   "outputs": [],
   "source": [
    "# calculate the area of circle\n",
    "##Write a Python program which accepts the radius of a circle from the user and compute the area.\n",
    "##Program Console Sample Output 1:\n",
    "##Input Radius: 0.5\n",
    "##Area of Circle with radius 0.5 is 0.7853981634\n",
    "radius = float(input(\"enter the radius of circle in meter :\"))\n",
    "pai = float(input(\"enter value of pai\"))\n",
    "area = (pai)*(radius**2)\n",
    "print(area)"
   ]
  }
 ],
 "metadata": {
  "kernelspec": {
   "display_name": "Python 3",
   "language": "python",
   "name": "python3"
  },
  "language_info": {
   "codemirror_mode": {
    "name": "ipython",
    "version": 3
   },
   "file_extension": ".py",
   "mimetype": "text/x-python",
   "name": "python",
   "nbconvert_exporter": "python",
   "pygments_lexer": "ipython3",
   "version": "3.7.3"
  }
 },
 "nbformat": 4,
 "nbformat_minor": 2
}
