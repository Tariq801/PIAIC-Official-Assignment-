{
 "cells": [
  {
   "cell_type": "code",
   "execution_count": 2,
   "metadata": {},
   "outputs": [
    {
     "name": "stdout",
     "output_type": "stream",
     "text": [
      "enter the radius of circle in meter :0.5\n",
      "enter value of pai3.142\n",
      "0.7855\n"
     ]
    }
   ],
   "source": [
    "#calculate the area of circle\n",
    "radius = float(input(\"enter the radius of circle in meter :\"))\n",
    "pai = float(input(\"enter value of pai\"))\n",
    "area = (pai)*(radius**2)\n",
    "print(area)"
   ]
  },
  {
   "cell_type": "code",
   "execution_count": null,
   "metadata": {},
   "outputs": [],
   "source": []
  },
  {
   "cell_type": "code",
   "execution_count": 4,
   "metadata": {},
   "outputs": [
    {
     "name": "stdout",
     "output_type": "stream",
     "text": [
      "enter a number2\n",
      "2 is positive number \n"
     ]
    }
   ],
   "source": [
    "#check either positive,negative, or zero\n",
    "number = int(input(\"enter a number\"))\n",
    "if number > 0:\n",
    "    print(number,\"is positive number \")\n",
    "elif number < 0:\n",
    "    print(number,\"is negative number\")\n",
    "else :\n",
    "    print(number,\"this number is zero\")"
   ]
  },
  {
   "cell_type": "code",
   "execution_count": null,
   "metadata": {},
   "outputs": [],
   "source": []
  },
  {
   "cell_type": "code",
   "execution_count": 10,
   "metadata": {},
   "outputs": [
    {
     "name": "stdout",
     "output_type": "stream",
     "text": [
      "Enter Numenator 4\n",
      "Enter Denominator 444\n",
      "Number 4 is not completely divisible by 444\n"
     ]
    }
   ],
   "source": [
    "#3. Divisibility Check of two numbers\n",
    "numenator = int(input(\"Enter Numenator \"))\n",
    "denominator = int(input(\"Enter Denominator \"))\n",
    "result = numenator%denominator\n",
    "if result == 0:\n",
    "    print (\"Number\",numenator,\"is completely divisible by\",denominator)\n",
    "else:\n",
    "    print(\"Number\",numenator,\"is not completely divisible by\",denominator)"
   ]
  },
  {
   "cell_type": "code",
   "execution_count": null,
   "metadata": {},
   "outputs": [],
   "source": []
  },
  {
   "cell_type": "code",
   "execution_count": null,
   "metadata": {},
   "outputs": [],
   "source": []
  },
  {
   "cell_type": "code",
   "execution_count": null,
   "metadata": {},
   "outputs": [],
   "source": []
  }
 ],
 "metadata": {
  "kernelspec": {
   "display_name": "Python 3",
   "language": "python",
   "name": "python3"
  },
  "language_info": {
   "codemirror_mode": {
    "name": "ipython",
    "version": 3
   },
   "file_extension": ".py",
   "mimetype": "text/x-python",
   "name": "python",
   "nbconvert_exporter": "python",
   "pygments_lexer": "ipython3",
   "version": "3.7.3"
  }
 },
 "nbformat": 4,
 "nbformat_minor": 2
}
